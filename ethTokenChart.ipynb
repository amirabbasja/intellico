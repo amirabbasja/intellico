{
 "cells": [
  {
   "cell_type": "code",
   "execution_count": 1,
   "metadata": {},
   "outputs": [],
   "source": [
    "import os, re, time\n",
    "from dotenv import load_dotenv \n",
    "import json\n",
    "from utils import *\n",
    "from web3 import Web3\n",
    "import pandas as pd\n",
    "from pprint import pprint\n",
    "from utils import *\n",
    "from tqdm import tqdm\n",
    "from decimal import Decimal\n",
    "from datetime import datetime\n",
    "import numpy as np\n",
    "import mplfinance as mpf\n",
    "\n",
    "# Get the config file\n",
    "configObj = ConfigManager(\"config.json\")\n",
    "appInfo, configData = configObj.load_config()\n",
    "nodeUrl = appInfo[\"alchemy_url\"]+appInfo[\"alchemy_key\"]\n"
   ]
  },
  {
   "cell_type": "code",
   "execution_count": 2,
   "metadata": {},
   "outputs": [
    {
     "ename": "Exception",
     "evalue": "Error fetching pair information: Not a uniswap V2 or V3 pair. are you sure what you have entered is for a conteract address?",
     "output_type": "error",
     "traceback": [
      "\u001b[1;31m---------------------------------------------------------------------------\u001b[0m",
      "\u001b[1;31mABIFunctionNotFound\u001b[0m                       Traceback (most recent call last)",
      "File \u001b[1;32mc:\\Users\\Spino.shop\\Desktop\\Trading\\Apps\\Python 28- Onchain screener\\utils.py:734\u001b[0m, in \u001b[0;36mETH_Handler.get_pair_info\u001b[1;34m(self, pair_address)\u001b[0m\n\u001b[0;32m    733\u001b[0m \u001b[38;5;66;03m# Get token addresses\u001b[39;00m\n\u001b[1;32m--> 734\u001b[0m token0_address \u001b[38;5;241m=\u001b[39m \u001b[43mpair_contract\u001b[49m\u001b[38;5;241;43m.\u001b[39;49m\u001b[43mfunctions\u001b[49m\u001b[38;5;241;43m.\u001b[39;49m\u001b[43mtoken0\u001b[49m()\u001b[38;5;241m.\u001b[39mcall()\n\u001b[0;32m    735\u001b[0m token1_address \u001b[38;5;241m=\u001b[39m pair_contract\u001b[38;5;241m.\u001b[39mfunctions\u001b[38;5;241m.\u001b[39mtoken1()\u001b[38;5;241m.\u001b[39mcall()\n",
      "File \u001b[1;32mc:\\Users\\Spino.shop\\Desktop\\Trading\\Apps\\.MotherVenv\\lib\\site-packages\\web3\\contract\\contract.py:535\u001b[0m, in \u001b[0;36mContractFunctions.__getattr__\u001b[1;34m(self, function_name)\u001b[0m\n\u001b[0;32m    531\u001b[0m \u001b[38;5;28;01melif\u001b[39;00m get_name_from_abi_element_identifier(function_name) \u001b[38;5;129;01mnot\u001b[39;00m \u001b[38;5;129;01min\u001b[39;00m [\n\u001b[0;32m    532\u001b[0m     get_name_from_abi_element_identifier(function[\u001b[38;5;124m\"\u001b[39m\u001b[38;5;124mname\u001b[39m\u001b[38;5;124m\"\u001b[39m])\n\u001b[0;32m    533\u001b[0m     \u001b[38;5;28;01mfor\u001b[39;00m function \u001b[38;5;129;01min\u001b[39;00m \u001b[38;5;28mself\u001b[39m\u001b[38;5;241m.\u001b[39m_functions\n\u001b[0;32m    534\u001b[0m ]:\n\u001b[1;32m--> 535\u001b[0m     \u001b[38;5;28;01mraise\u001b[39;00m ABIFunctionNotFound(\n\u001b[0;32m    536\u001b[0m         \u001b[38;5;124mf\u001b[39m\u001b[38;5;124m\"\u001b[39m\u001b[38;5;124mThe function \u001b[39m\u001b[38;5;124m'\u001b[39m\u001b[38;5;132;01m{\u001b[39;00mfunction_name\u001b[38;5;132;01m}\u001b[39;00m\u001b[38;5;124m'\u001b[39m\u001b[38;5;124m was not found in this contract\u001b[39m\u001b[38;5;124m'\u001b[39m\u001b[38;5;124ms \u001b[39m\u001b[38;5;124m\"\u001b[39m\n\u001b[0;32m    537\u001b[0m         \u001b[38;5;124m\"\u001b[39m\u001b[38;5;124mabi. Are you sure you provided the correct contract abi?\u001b[39m\u001b[38;5;124m\"\u001b[39m,\n\u001b[0;32m    538\u001b[0m     )\n\u001b[0;32m    540\u001b[0m function_identifier \u001b[38;5;241m=\u001b[39m function_name\n",
      "\u001b[1;31mABIFunctionNotFound\u001b[0m: The function 'token0' was not found in this contract's abi. Are you sure you provided the correct contract abi?",
      "\nDuring handling of the above exception, another exception occurred:\n",
      "\u001b[1;31mInsufficientDataBytes\u001b[0m                     Traceback (most recent call last)",
      "File \u001b[1;32mc:\\Users\\Spino.shop\\Desktop\\Trading\\Apps\\.MotherVenv\\lib\\site-packages\\web3\\contract\\utils.py:207\u001b[0m, in \u001b[0;36mcall_contract_function\u001b[1;34m(w3, address, normalizers, abi_element_identifier, transaction, block_id, contract_abi, abi_callable, state_override, ccip_read_enabled, decode_tuples, *args, **kwargs)\u001b[0m\n\u001b[0;32m    206\u001b[0m \u001b[38;5;28;01mtry\u001b[39;00m:\n\u001b[1;32m--> 207\u001b[0m     output_data \u001b[38;5;241m=\u001b[39m \u001b[43mw3\u001b[49m\u001b[38;5;241;43m.\u001b[39;49m\u001b[43mcodec\u001b[49m\u001b[38;5;241;43m.\u001b[39;49m\u001b[43mdecode\u001b[49m\u001b[43m(\u001b[49m\u001b[43moutput_types\u001b[49m\u001b[43m,\u001b[49m\u001b[43m \u001b[49m\u001b[43mreturn_data\u001b[49m\u001b[43m)\u001b[49m\n\u001b[0;32m    208\u001b[0m \u001b[38;5;28;01mexcept\u001b[39;00m DecodingError \u001b[38;5;28;01mas\u001b[39;00m e:\n\u001b[0;32m    209\u001b[0m     \u001b[38;5;66;03m# Provide a more helpful error message than the one provided by\u001b[39;00m\n\u001b[0;32m    210\u001b[0m     \u001b[38;5;66;03m# eth-abi-utils\u001b[39;00m\n",
      "File \u001b[1;32mc:\\Users\\Spino.shop\\Desktop\\Trading\\Apps\\.MotherVenv\\lib\\site-packages\\eth_abi\\codec.py:162\u001b[0m, in \u001b[0;36mABIDecoder.decode\u001b[1;34m(self, types, data, strict)\u001b[0m\n\u001b[0;32m    160\u001b[0m stream \u001b[38;5;241m=\u001b[39m \u001b[38;5;28mself\u001b[39m\u001b[38;5;241m.\u001b[39mstream_class(data)\n\u001b[1;32m--> 162\u001b[0m \u001b[38;5;28;01mreturn\u001b[39;00m cast(Tuple[Any, \u001b[38;5;241m.\u001b[39m\u001b[38;5;241m.\u001b[39m\u001b[38;5;241m.\u001b[39m], \u001b[43mdecoder\u001b[49m\u001b[43m(\u001b[49m\u001b[43mstream\u001b[49m\u001b[43m)\u001b[49m)\n",
      "File \u001b[1;32mc:\\Users\\Spino.shop\\Desktop\\Trading\\Apps\\.MotherVenv\\lib\\site-packages\\eth_abi\\decoding.py:131\u001b[0m, in \u001b[0;36mBaseDecoder.__call__\u001b[1;34m(self, stream)\u001b[0m\n\u001b[0;32m    130\u001b[0m \u001b[38;5;28;01mdef\u001b[39;00m \u001b[38;5;21m__call__\u001b[39m(\u001b[38;5;28mself\u001b[39m, stream: ContextFramesBytesIO) \u001b[38;5;241m-\u001b[39m\u001b[38;5;241m>\u001b[39m Any:\n\u001b[1;32m--> 131\u001b[0m     \u001b[38;5;28;01mreturn\u001b[39;00m \u001b[38;5;28;43mself\u001b[39;49m\u001b[38;5;241;43m.\u001b[39;49m\u001b[43mdecode\u001b[49m\u001b[43m(\u001b[49m\u001b[43mstream\u001b[49m\u001b[43m)\u001b[49m\n",
      "File \u001b[1;32mc:\\Users\\Spino.shop\\Desktop\\Trading\\Apps\\.MotherVenv\\lib\\site-packages\\eth_utils\\functional.py:47\u001b[0m, in \u001b[0;36mapply_to_return_value.<locals>.outer.<locals>.inner\u001b[1;34m(*args, **kwargs)\u001b[0m\n\u001b[0;32m     45\u001b[0m \u001b[38;5;129m@functools\u001b[39m\u001b[38;5;241m.\u001b[39mwraps(fn)\n\u001b[0;32m     46\u001b[0m \u001b[38;5;28;01mdef\u001b[39;00m \u001b[38;5;21minner\u001b[39m(\u001b[38;5;241m*\u001b[39margs, \u001b[38;5;241m*\u001b[39m\u001b[38;5;241m*\u001b[39mkwargs) \u001b[38;5;241m-\u001b[39m\u001b[38;5;241m>\u001b[39m T:  \u001b[38;5;66;03m# type: ignore\u001b[39;00m\n\u001b[1;32m---> 47\u001b[0m     \u001b[38;5;28;01mreturn\u001b[39;00m \u001b[43mcallback\u001b[49m\u001b[43m(\u001b[49m\u001b[43mfn\u001b[49m\u001b[43m(\u001b[49m\u001b[38;5;241;43m*\u001b[39;49m\u001b[43margs\u001b[49m\u001b[43m,\u001b[49m\u001b[43m \u001b[49m\u001b[38;5;241;43m*\u001b[39;49m\u001b[38;5;241;43m*\u001b[39;49m\u001b[43mkwargs\u001b[49m\u001b[43m)\u001b[49m\u001b[43m)\u001b[49m\n",
      "File \u001b[1;32mc:\\Users\\Spino.shop\\Desktop\\Trading\\Apps\\.MotherVenv\\lib\\site-packages\\eth_abi\\decoding.py:224\u001b[0m, in \u001b[0;36mTupleDecoder.decode\u001b[1;34m(self, stream)\u001b[0m\n\u001b[0;32m    222\u001b[0m \u001b[38;5;129m@to_tuple\u001b[39m  \u001b[38;5;66;03m# type: ignore[misc] # untyped decorator\u001b[39;00m\n\u001b[0;32m    223\u001b[0m \u001b[38;5;28;01mdef\u001b[39;00m \u001b[38;5;21mdecode\u001b[39m(\u001b[38;5;28mself\u001b[39m, stream: ContextFramesBytesIO) \u001b[38;5;241m-\u001b[39m\u001b[38;5;241m>\u001b[39m Generator[Any, \u001b[38;5;28;01mNone\u001b[39;00m, \u001b[38;5;28;01mNone\u001b[39;00m]:\n\u001b[1;32m--> 224\u001b[0m     \u001b[38;5;28;43mself\u001b[39;49m\u001b[38;5;241;43m.\u001b[39;49m\u001b[43mvalidate_pointers\u001b[49m\u001b[43m(\u001b[49m\u001b[43mstream\u001b[49m\u001b[43m)\u001b[49m\n\u001b[0;32m    225\u001b[0m     \u001b[38;5;28;01mfor\u001b[39;00m decoder \u001b[38;5;129;01min\u001b[39;00m \u001b[38;5;28mself\u001b[39m\u001b[38;5;241m.\u001b[39mdecoders:\n",
      "File \u001b[1;32mc:\\Users\\Spino.shop\\Desktop\\Trading\\Apps\\.MotherVenv\\lib\\site-packages\\eth_abi\\decoding.py:218\u001b[0m, in \u001b[0;36mTupleDecoder.validate_pointers\u001b[1;34m(self, stream)\u001b[0m\n\u001b[0;32m    215\u001b[0m     \u001b[38;5;28;01melse\u001b[39;00m:\n\u001b[0;32m    216\u001b[0m         \u001b[38;5;66;03m# the next 32 bytes are not a pointer, so progress the stream per\u001b[39;00m\n\u001b[0;32m    217\u001b[0m         \u001b[38;5;66;03m# the decoder\u001b[39;00m\n\u001b[1;32m--> 218\u001b[0m         \u001b[43mdecoder\u001b[49m\u001b[43m(\u001b[49m\u001b[43mstream\u001b[49m\u001b[43m)\u001b[49m\n\u001b[0;32m    219\u001b[0m \u001b[38;5;66;03m# return the stream to its original location for actual decoding\u001b[39;00m\n",
      "File \u001b[1;32mc:\\Users\\Spino.shop\\Desktop\\Trading\\Apps\\.MotherVenv\\lib\\site-packages\\eth_abi\\decoding.py:131\u001b[0m, in \u001b[0;36mBaseDecoder.__call__\u001b[1;34m(self, stream)\u001b[0m\n\u001b[0;32m    130\u001b[0m \u001b[38;5;28;01mdef\u001b[39;00m \u001b[38;5;21m__call__\u001b[39m(\u001b[38;5;28mself\u001b[39m, stream: ContextFramesBytesIO) \u001b[38;5;241m-\u001b[39m\u001b[38;5;241m>\u001b[39m Any:\n\u001b[1;32m--> 131\u001b[0m     \u001b[38;5;28;01mreturn\u001b[39;00m \u001b[38;5;28;43mself\u001b[39;49m\u001b[38;5;241;43m.\u001b[39;49m\u001b[43mdecode\u001b[49m\u001b[43m(\u001b[49m\u001b[43mstream\u001b[49m\u001b[43m)\u001b[49m\n",
      "File \u001b[1;32mc:\\Users\\Spino.shop\\Desktop\\Trading\\Apps\\.MotherVenv\\lib\\site-packages\\eth_abi\\decoding.py:250\u001b[0m, in \u001b[0;36mSingleDecoder.decode\u001b[1;34m(self, stream)\u001b[0m\n\u001b[0;32m    249\u001b[0m \u001b[38;5;28;01mdef\u001b[39;00m \u001b[38;5;21mdecode\u001b[39m(\u001b[38;5;28mself\u001b[39m, stream):\n\u001b[1;32m--> 250\u001b[0m     raw_data \u001b[38;5;241m=\u001b[39m \u001b[38;5;28;43mself\u001b[39;49m\u001b[38;5;241;43m.\u001b[39;49m\u001b[43mread_data_from_stream\u001b[49m\u001b[43m(\u001b[49m\u001b[43mstream\u001b[49m\u001b[43m)\u001b[49m\n\u001b[0;32m    251\u001b[0m     data, padding_bytes \u001b[38;5;241m=\u001b[39m \u001b[38;5;28mself\u001b[39m\u001b[38;5;241m.\u001b[39msplit_data_and_padding(raw_data)\n",
      "File \u001b[1;32mc:\\Users\\Spino.shop\\Desktop\\Trading\\Apps\\.MotherVenv\\lib\\site-packages\\eth_abi\\decoding.py:389\u001b[0m, in \u001b[0;36mFixedByteSizeDecoder.read_data_from_stream\u001b[1;34m(self, stream)\u001b[0m\n\u001b[0;32m    388\u001b[0m \u001b[38;5;28;01mif\u001b[39;00m \u001b[38;5;28mlen\u001b[39m(data) \u001b[38;5;241m!=\u001b[39m \u001b[38;5;28mself\u001b[39m\u001b[38;5;241m.\u001b[39mdata_byte_size:\n\u001b[1;32m--> 389\u001b[0m     \u001b[38;5;28;01mraise\u001b[39;00m InsufficientDataBytes(\n\u001b[0;32m    390\u001b[0m         \u001b[38;5;124mf\u001b[39m\u001b[38;5;124m\"\u001b[39m\u001b[38;5;124mTried to read \u001b[39m\u001b[38;5;132;01m{\u001b[39;00m\u001b[38;5;28mself\u001b[39m\u001b[38;5;241m.\u001b[39mdata_byte_size\u001b[38;5;132;01m}\u001b[39;00m\u001b[38;5;124m bytes, \u001b[39m\u001b[38;5;124m\"\u001b[39m\n\u001b[0;32m    391\u001b[0m         \u001b[38;5;124mf\u001b[39m\u001b[38;5;124m\"\u001b[39m\u001b[38;5;124monly got \u001b[39m\u001b[38;5;132;01m{\u001b[39;00m\u001b[38;5;28mlen\u001b[39m(data)\u001b[38;5;132;01m}\u001b[39;00m\u001b[38;5;124m bytes.\u001b[39m\u001b[38;5;124m\"\u001b[39m\n\u001b[0;32m    392\u001b[0m     )\n\u001b[0;32m    394\u001b[0m \u001b[38;5;28;01mreturn\u001b[39;00m data\n",
      "\u001b[1;31mInsufficientDataBytes\u001b[0m: Tried to read 32 bytes, only got 0 bytes.",
      "\nThe above exception was the direct cause of the following exception:\n",
      "\u001b[1;31mBadFunctionCallOutput\u001b[0m                     Traceback (most recent call last)",
      "File \u001b[1;32mc:\\Users\\Spino.shop\\Desktop\\Trading\\Apps\\Python 28- Onchain screener\\utils.py:742\u001b[0m, in \u001b[0;36mETH_Handler.get_pair_info\u001b[1;34m(self, pair_address)\u001b[0m\n\u001b[0;32m    741\u001b[0m \u001b[38;5;66;03m# Get token addresses\u001b[39;00m\n\u001b[1;32m--> 742\u001b[0m token0_address \u001b[38;5;241m=\u001b[39m \u001b[43mpair_contract\u001b[49m\u001b[38;5;241;43m.\u001b[39;49m\u001b[43mfunctions\u001b[49m\u001b[38;5;241;43m.\u001b[39;49m\u001b[43mtoken0\u001b[49m\u001b[43m(\u001b[49m\u001b[43m)\u001b[49m\u001b[38;5;241;43m.\u001b[39;49m\u001b[43mcall\u001b[49m\u001b[43m(\u001b[49m\u001b[43m)\u001b[49m\n\u001b[0;32m    743\u001b[0m token1_address \u001b[38;5;241m=\u001b[39m pair_contract\u001b[38;5;241m.\u001b[39mfunctions\u001b[38;5;241m.\u001b[39mtoken1()\u001b[38;5;241m.\u001b[39mcall()\n",
      "File \u001b[1;32mc:\\Users\\Spino.shop\\Desktop\\Trading\\Apps\\.MotherVenv\\lib\\site-packages\\web3\\contract\\contract.py:404\u001b[0m, in \u001b[0;36mContractFunction.call\u001b[1;34m(self, transaction, block_identifier, state_override, ccip_read_enabled)\u001b[0m\n\u001b[0;32m    402\u001b[0m abi_element_identifier \u001b[38;5;241m=\u001b[39m abi_to_signature(\u001b[38;5;28mself\u001b[39m\u001b[38;5;241m.\u001b[39mabi)\n\u001b[1;32m--> 404\u001b[0m \u001b[38;5;28;01mreturn\u001b[39;00m call_contract_function(\n\u001b[0;32m    405\u001b[0m     \u001b[38;5;28mself\u001b[39m\u001b[38;5;241m.\u001b[39mw3,\n\u001b[0;32m    406\u001b[0m     \u001b[38;5;28mself\u001b[39m\u001b[38;5;241m.\u001b[39maddress,\n\u001b[0;32m    407\u001b[0m     \u001b[38;5;28mself\u001b[39m\u001b[38;5;241m.\u001b[39m_return_data_normalizers,\n\u001b[0;32m    408\u001b[0m     abi_element_identifier,\n\u001b[0;32m    409\u001b[0m     call_transaction,\n\u001b[0;32m    410\u001b[0m     block_id,\n\u001b[0;32m    411\u001b[0m     \u001b[38;5;28mself\u001b[39m\u001b[38;5;241m.\u001b[39mcontract_abi,\n\u001b[0;32m    412\u001b[0m     \u001b[38;5;28mself\u001b[39m\u001b[38;5;241m.\u001b[39mabi,\n\u001b[0;32m    413\u001b[0m     state_override,\n\u001b[0;32m    414\u001b[0m     ccip_read_enabled,\n\u001b[0;32m    415\u001b[0m     \u001b[38;5;28mself\u001b[39m\u001b[38;5;241m.\u001b[39mdecode_tuples,\n\u001b[0;32m    416\u001b[0m     \u001b[38;5;241m*\u001b[39m\u001b[38;5;28mself\u001b[39m\u001b[38;5;241m.\u001b[39margs \u001b[38;5;129;01mor\u001b[39;00m (),\n\u001b[0;32m    417\u001b[0m     \u001b[38;5;241m*\u001b[39m\u001b[38;5;241m*\u001b[39m\u001b[38;5;28mself\u001b[39m\u001b[38;5;241m.\u001b[39mkwargs \u001b[38;5;129;01mor\u001b[39;00m {},\n\u001b[0;32m    418\u001b[0m )\n",
      "File \u001b[1;32mc:\\Users\\Spino.shop\\Desktop\\Trading\\Apps\\.MotherVenv\\lib\\site-packages\\web3\\contract\\utils.py:225\u001b[0m, in \u001b[0;36mcall_contract_function\u001b[1;34m(w3, address, normalizers, abi_element_identifier, transaction, block_id, contract_abi, abi_callable, state_override, ccip_read_enabled, decode_tuples, *args, **kwargs)\u001b[0m\n\u001b[0;32m    221\u001b[0m         msg \u001b[38;5;241m=\u001b[39m (\n\u001b[0;32m    222\u001b[0m             \u001b[38;5;124mf\u001b[39m\u001b[38;5;124m\"\u001b[39m\u001b[38;5;124mCould not decode contract function call to \u001b[39m\u001b[38;5;132;01m{\u001b[39;00mabi_element_identifier\u001b[38;5;132;01m}\u001b[39;00m\u001b[38;5;124m \u001b[39m\u001b[38;5;124m\"\u001b[39m\n\u001b[0;32m    223\u001b[0m             \u001b[38;5;124mf\u001b[39m\u001b[38;5;124m\"\u001b[39m\u001b[38;5;124mwith return data: \u001b[39m\u001b[38;5;132;01m{\u001b[39;00m\u001b[38;5;28mstr\u001b[39m(return_data)\u001b[38;5;132;01m}\u001b[39;00m\u001b[38;5;124m, output_types: \u001b[39m\u001b[38;5;132;01m{\u001b[39;00moutput_types\u001b[38;5;132;01m}\u001b[39;00m\u001b[38;5;124m\"\u001b[39m\n\u001b[0;32m    224\u001b[0m         )\n\u001b[1;32m--> 225\u001b[0m     \u001b[38;5;28;01mraise\u001b[39;00m BadFunctionCallOutput(msg) \u001b[38;5;28;01mfrom\u001b[39;00m \u001b[38;5;21;01me\u001b[39;00m\n\u001b[0;32m    227\u001b[0m _normalizers \u001b[38;5;241m=\u001b[39m itertools\u001b[38;5;241m.\u001b[39mchain(\n\u001b[0;32m    228\u001b[0m     BASE_RETURN_NORMALIZERS,\n\u001b[0;32m    229\u001b[0m     normalizers,\n\u001b[0;32m    230\u001b[0m )\n",
      "\u001b[1;31mBadFunctionCallOutput\u001b[0m: Could not transact with/call contract function, is contract deployed correctly and chain synced?",
      "\nDuring handling of the above exception, another exception occurred:\n",
      "\u001b[1;31mException\u001b[0m                                 Traceback (most recent call last)",
      "File \u001b[1;32mc:\\Users\\Spino.shop\\Desktop\\Trading\\Apps\\Python 28- Onchain screener\\utils.py:745\u001b[0m, in \u001b[0;36mETH_Handler.get_pair_info\u001b[1;34m(self, pair_address)\u001b[0m\n\u001b[0;32m    744\u001b[0m     \u001b[38;5;28;01mexcept\u001b[39;00m:\n\u001b[1;32m--> 745\u001b[0m         \u001b[38;5;28;01mraise\u001b[39;00m \u001b[38;5;167;01mException\u001b[39;00m(\u001b[38;5;124m\"\u001b[39m\u001b[38;5;124mNot a uniswap V2 or V3 pair. are you sure what you have entered is for a conteract address?\u001b[39m\u001b[38;5;124m\"\u001b[39m)\n\u001b[0;32m    747\u001b[0m \u001b[38;5;66;03m# Get pool's version\u001b[39;00m\n",
      "\u001b[1;31mException\u001b[0m: Not a uniswap V2 or V3 pair. are you sure what you have entered is for a conteract address?",
      "\nDuring handling of the above exception, another exception occurred:\n",
      "\u001b[1;31mException\u001b[0m                                 Traceback (most recent call last)",
      "Input \u001b[1;32mIn [2]\u001b[0m, in \u001b[0;36m<cell line: 13>\u001b[1;34m()\u001b[0m\n\u001b[0;32m     10\u001b[0m from_block \u001b[38;5;241m=\u001b[39m end_block \u001b[38;5;241m-\u001b[39m \u001b[38;5;241m40000\u001b[39m\n\u001b[0;32m     12\u001b[0m handler \u001b[38;5;241m=\u001b[39m ETH_Handler(web3Obj)\n\u001b[1;32m---> 13\u001b[0m pairInfo \u001b[38;5;241m=\u001b[39m \u001b[43mhandler\u001b[49m\u001b[38;5;241;43m.\u001b[39;49m\u001b[43mget_pair_info\u001b[49m\u001b[43m(\u001b[49m\u001b[43mPAIR_ADDRESS\u001b[49m\u001b[43m)\u001b[49m\n\u001b[0;32m     14\u001b[0m quoteAssetIndex \u001b[38;5;241m=\u001b[39m \u001b[38;5;241m0\u001b[39m \u001b[38;5;28;01mif\u001b[39;00m pairInfo[\u001b[38;5;124m\"\u001b[39m\u001b[38;5;124mtoken0\u001b[39m\u001b[38;5;124m\"\u001b[39m][\u001b[38;5;124m\"\u001b[39m\u001b[38;5;124msymbol\u001b[39m\u001b[38;5;124m\"\u001b[39m] \u001b[38;5;241m==\u001b[39m \u001b[38;5;124m\"\u001b[39m\u001b[38;5;124mWETH\u001b[39m\u001b[38;5;124m\"\u001b[39m \u001b[38;5;28;01melse\u001b[39;00m \u001b[38;5;241m1\u001b[39m \u001b[38;5;28;01mif\u001b[39;00m pairInfo[\u001b[38;5;124m\"\u001b[39m\u001b[38;5;124mtoken1\u001b[39m\u001b[38;5;124m\"\u001b[39m][\u001b[38;5;124m\"\u001b[39m\u001b[38;5;124msymbol\u001b[39m\u001b[38;5;124m\"\u001b[39m] \u001b[38;5;241m==\u001b[39m \u001b[38;5;124m\"\u001b[39m\u001b[38;5;124mWETH\u001b[39m\u001b[38;5;124m\"\u001b[39m \u001b[38;5;28;01melse\u001b[39;00m \u001b[38;5;28;01mNone\u001b[39;00m\n\u001b[0;32m     15\u001b[0m quoteAsset \u001b[38;5;241m=\u001b[39m pairInfo[\u001b[38;5;124mf\u001b[39m\u001b[38;5;124m\"\u001b[39m\u001b[38;5;124mtoken\u001b[39m\u001b[38;5;132;01m{\u001b[39;00mquoteAssetIndex\u001b[38;5;132;01m}\u001b[39;00m\u001b[38;5;124m\"\u001b[39m][\u001b[38;5;124m\"\u001b[39m\u001b[38;5;124msymbol\u001b[39m\u001b[38;5;124m\"\u001b[39m]\n",
      "File \u001b[1;32mc:\\Users\\Spino.shop\\Desktop\\Trading\\Apps\\Python 28- Onchain screener\\utils.py:793\u001b[0m, in \u001b[0;36mETH_Handler.get_pair_info\u001b[1;34m(self, pair_address)\u001b[0m\n\u001b[0;32m    777\u001b[0m     \u001b[38;5;28;01mreturn\u001b[39;00m {\n\u001b[0;32m    778\u001b[0m         \u001b[38;5;124m\"\u001b[39m\u001b[38;5;124mpair_address\u001b[39m\u001b[38;5;124m\"\u001b[39m: pair_address,\n\u001b[0;32m    779\u001b[0m         \u001b[38;5;124m\"\u001b[39m\u001b[38;5;124mversion\u001b[39m\u001b[38;5;124m\"\u001b[39m: version,\n\u001b[1;32m   (...)\u001b[0m\n\u001b[0;32m    789\u001b[0m         }\n\u001b[0;32m    790\u001b[0m     }\n\u001b[0;32m    792\u001b[0m \u001b[38;5;28;01mexcept\u001b[39;00m \u001b[38;5;167;01mException\u001b[39;00m \u001b[38;5;28;01mas\u001b[39;00m e:\n\u001b[1;32m--> 793\u001b[0m     \u001b[38;5;28;01mraise\u001b[39;00m \u001b[38;5;167;01mException\u001b[39;00m(\u001b[38;5;124mf\u001b[39m\u001b[38;5;124m\"\u001b[39m\u001b[38;5;124mError fetching pair information: \u001b[39m\u001b[38;5;132;01m{\u001b[39;00m\u001b[38;5;28mstr\u001b[39m(e)\u001b[38;5;132;01m}\u001b[39;00m\u001b[38;5;124m\"\u001b[39m)\n",
      "\u001b[1;31mException\u001b[0m: Error fetching pair information: Not a uniswap V2 or V3 pair. are you sure what you have entered is for a conteract address?"
     ]
    }
   ],
   "source": [
    "\n",
    "# Replace these values with your specific pair\n",
    "PAIR_ADDRESS = \"0x5c7f3aaba7943d90f10166ed53f9179ce7d8d989\"; \n",
    "RPC_URL = nodeUrl\n",
    "web3Obj = Web3(Web3.HTTPProvider(nodeUrl))\n",
    "\n",
    "# Get transactions from the last 1000 blocks\n",
    "end_block = 21400000 + 80000\n",
    "from_block = 21400000 - 60000\n",
    "end_block = web3Obj.eth.block_number\n",
    "from_block = end_block - 40000\n",
    "\n",
    "handler = ETH_Handler(web3Obj)\n",
    "pairInfo = handler.get_pair_info(PAIR_ADDRESS)\n",
    "quoteAssetIndex = 0 if pairInfo[\"token0\"][\"symbol\"] == \"WETH\" else 1 if pairInfo[\"token1\"][\"symbol\"] == \"WETH\" else None\n",
    "quoteAsset = pairInfo[f\"token{quoteAssetIndex}\"][\"symbol\"]\n",
    "baseAsset = pairInfo[f\"token{quoteAssetIndex-1 if quoteAssetIndex == 1 else 1}\"][\"symbol\"]\n",
    "assetName = f\"{baseAsset}/{quoteAsset}\"\n",
    "\n",
    "candleHandler = EVMTokenCandlestick(\"./resources/ETH_block_data\", web3Obj, \"ETH\", True)\n",
    "transactions = candleHandler.get_uniswap_pair_transactions(\n",
    "    PAIR_ADDRESS, \n",
    "    from_block, \n",
    "    end_block, \n",
    "    None, \n",
    "    pairInfo[\"token0\"][\"decimals\"], \n",
    "    pairInfo[\"token1\"][\"decimals\"], \n",
    "    2 if pairInfo[\"version\"]==\"UNI_V2\" else 3 if pairInfo[\"version\"]==\"UNI_V3\" else -1,\n",
    "    quoteAssetIndex,\n",
    "    0.0001)\n",
    "priceDf = candleHandler.process_transactions(transactions)\n",
    "candleHandler.get_plot(priceDf, \"4h\", {\"title\":assetName})"
   ]
  }
 ],
 "metadata": {
  "kernelspec": {
   "display_name": ".MotherVenv",
   "language": "python",
   "name": "python3"
  },
  "language_info": {
   "codemirror_mode": {
    "name": "ipython",
    "version": 3
   },
   "file_extension": ".py",
   "mimetype": "text/x-python",
   "name": "python",
   "nbconvert_exporter": "python",
   "pygments_lexer": "ipython3",
   "version": "3.9.7"
  }
 },
 "nbformat": 4,
 "nbformat_minor": 2
}
